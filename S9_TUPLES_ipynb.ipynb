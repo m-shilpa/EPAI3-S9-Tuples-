{
  "nbformat": 4,
  "nbformat_minor": 0,
  "metadata": {
    "colab": {
      "name": "S9 - TUPLES.ipynb.ipynb",
      "provenance": [],
      "authorship_tag": "ABX9TyMC+RvEYrSffXCUuoIfuVeb",
      "include_colab_link": true
    },
    "kernelspec": {
      "name": "python3",
      "display_name": "Python 3"
    },
    "language_info": {
      "name": "python"
    }
  },
  "cells": [
    {
      "cell_type": "markdown",
      "metadata": {
        "id": "view-in-github",
        "colab_type": "text"
      },
      "source": [
        "<a href=\"https://colab.research.google.com/github/m-shilpa/EPAI3-S9-Tuples-/blob/main/S9_TUPLES_ipynb.ipynb\" target=\"_parent\"><img src=\"https://colab.research.google.com/assets/colab-badge.svg\" alt=\"Open In Colab\"/></a>"
      ]
    },
    {
      "cell_type": "code",
      "metadata": {
        "colab": {
          "base_uri": "https://localhost:8080/"
        },
        "id": "aNjYE8s70O5t",
        "outputId": "4c80f747-99da-49d0-b6fd-d3695be1378f"
      },
      "source": [
        "pip install Faker"
      ],
      "execution_count": 1,
      "outputs": [
        {
          "output_type": "stream",
          "text": [
            "Collecting Faker\n",
            "\u001b[?25l  Downloading https://files.pythonhosted.org/packages/e4/be/d03e305f1d879f541c23d586023ec11b124d6cc3d75a95159470754134d9/Faker-8.10.0-py3-none-any.whl (1.2MB)\n",
            "\u001b[K     |████████████████████████████████| 1.2MB 8.2MB/s \n",
            "\u001b[?25hRequirement already satisfied: text-unidecode==1.3 in /usr/local/lib/python3.7/dist-packages (from Faker) (1.3)\n",
            "Requirement already satisfied: python-dateutil>=2.4 in /usr/local/lib/python3.7/dist-packages (from Faker) (2.8.1)\n",
            "Requirement already satisfied: six>=1.5 in /usr/local/lib/python3.7/dist-packages (from python-dateutil>=2.4->Faker) (1.15.0)\n",
            "Installing collected packages: Faker\n",
            "Successfully installed Faker-8.10.0\n"
          ],
          "name": "stdout"
        }
      ]
    },
    {
      "cell_type": "code",
      "metadata": {
        "id": "j5C7NuJ3052P"
      },
      "source": [
        "from datetime import date\n",
        "from faker import Faker\n",
        "from collections import namedtuple\n",
        "from time import perf_counter"
      ],
      "execution_count": 10,
      "outputs": []
    },
    {
      "cell_type": "code",
      "metadata": {
        "id": "ld-vR0Z40Xov"
      },
      "source": [
        "def check_length_0(input_list):\n",
        "    \"\"\" Check if the length of list is empty or not \"\"\"\n",
        "\t\n",
        "    if len(input_list) > 0:\n",
        "        return True\n",
        "    else:\n",
        "        return False\n"
      ],
      "execution_count": 2,
      "outputs": []
    },
    {
      "cell_type": "code",
      "metadata": {
        "id": "PFOyk0YQ0jV2"
      },
      "source": [
        "def fetch_profiles(num_profiles, dtype):\n",
        "\t\n",
        "    \"\"\" create a list of fake profiles by using the Faker module and returns this list. \"\"\"\n",
        "\t\n",
        "    data_desc = ['job', 'company', 'ssn', 'residence', 'current_location', 'blood_group', 'website', 'username', 'name', 'sex', 'address', 'mail', 'birthdate','age'] \n",
        "    profiles = []\n",
        "    fake = Faker()\n",
        "    Faker.seed(0)\n",
        "\n",
        "    if dtype == 'namedtuple':\n",
        "        Data = namedtuple('Data', data_desc)\n",
        "        Data.__doc__ = \"Contains the person's profile \"\n",
        "        for _ in range(num_profiles):\n",
        "            p = fake.profile()\n",
        "            p['age'] = (date.today() - p['birthdate']).days\n",
        "            profiles.append(Data(**p))\n",
        "\n",
        "    elif dtype == 'dict':\n",
        "        for _ in range(num_profiles):\n",
        "            p = fake.profile()\n",
        "            p['age'] = (date.today() - p['birthdate']).days\n",
        "            profiles.append(p)\n",
        "\n",
        "    return profiles"
      ],
      "execution_count": 3,
      "outputs": []
    },
    {
      "cell_type": "code",
      "metadata": {
        "id": "ozw4vjpJ0hTo"
      },
      "source": [
        "def largest_blood_group(profiles, dtype):\n",
        "    \"\"\" Function to get the largest blood group type \"\"\"\n",
        "\t\n",
        "    if check_length_0(profiles):\n",
        "\n",
        "        if dtype == 'namedtuple': \n",
        "            blood_groups = [i.blood_group for i in profiles ]\n",
        "        elif dtype == 'dict':\n",
        "            blood_groups = [i['blood_group'] for i in profiles ]\n",
        "        else:\n",
        "            return\n",
        "\n",
        "        m = 0\n",
        "        for i in set(blood_groups):\n",
        "            x = blood_groups.count(i)\n",
        "            if x>=m:\n",
        "                m=x\n",
        "                major = i\n",
        "                    \n",
        "        return major\n",
        "    else:\n",
        "        return \"No profiles available\""
      ],
      "execution_count": 4,
      "outputs": []
    },
    {
      "cell_type": "code",
      "metadata": {
        "id": "t6qwCYdX0ext"
      },
      "source": [
        "def get_oldest_person_age(profiles,dtype):\n",
        "    \"\"\" Function to get the age of the oldest person in days. \"\"\"\n",
        "\t\n",
        "    if check_length_0(profiles):\n",
        "        \n",
        "        if dtype == 'namedtuple': \n",
        "            m = 0\n",
        "            for i in profiles:\n",
        "                if i.age >m:\n",
        "                    m=i.age\n",
        "            return m\n",
        "        elif dtype == 'dict': \n",
        "            m = 0\n",
        "            for i in profiles:\n",
        "                if i['age'] >m:\n",
        "                    m=i['age']\n",
        "            return m\n",
        "    else:\n",
        "        return \"No profiles available\"\n"
      ],
      "execution_count": 5,
      "outputs": []
    },
    {
      "cell_type": "code",
      "metadata": {
        "id": "uoDN0MQ40cpY"
      },
      "source": [
        "def get_averge_age(profiles,dtype):\n",
        "    \"\"\" Function to get the average age of all the people in the given list of profiles. \"\"\"\n",
        "\t\n",
        "    if check_length_0(profiles):\n",
        "        if dtype == 'namedtuple':\n",
        "            m = 0\n",
        "            for i in profiles:\n",
        "                m+=i.age\n",
        "            return m/len(profiles)\n",
        "        elif dtype == 'dict':\n",
        "            m = 0\n",
        "            for i in profiles:\n",
        "                m+=i['age']\n",
        "            return m/len(profiles)\n",
        "    else:\n",
        "        return \"No profiles available\""
      ],
      "execution_count": 6,
      "outputs": []
    },
    {
      "cell_type": "code",
      "metadata": {
        "id": "_e_W-ME20a6f"
      },
      "source": [
        "def get_mean_current_location(profiles,dtype):\n",
        "    \"\"\" Function to ge the mean current location. \"\"\"\n",
        "\t\n",
        "    if check_length_0(profiles):\n",
        "        if dtype == 'namedtuple':\n",
        "            x_tot = 0\n",
        "            y_tot = 0\n",
        "            a = []\n",
        "            for i in profiles:\n",
        "                x_tot+= i.current_location[0]\n",
        "                y_tot+= i.current_location[1]\n",
        "\n",
        "            return x_tot/len(profiles), y_tot/len(profiles)\n",
        "        elif dtype == 'dict':\n",
        "            x_tot = 0\n",
        "            y_tot = 0\n",
        "            a = []\n",
        "            for i in profiles:\n",
        "                x_tot+= i['current_location'][0]\n",
        "                y_tot+= i['current_location'][1]\n",
        "\n",
        "            return x_tot/len(profiles), y_tot/len(profiles)\n",
        "    else:\n",
        "        return \"No profiles available\"\n"
      ],
      "execution_count": 7,
      "outputs": []
    },
    {
      "cell_type": "code",
      "metadata": {
        "colab": {
          "base_uri": "https://localhost:8080/"
        },
        "id": "vMRHHTId0zei",
        "outputId": "0229d204-565b-46bd-8009-53b003a52265"
      },
      "source": [
        "profiles = fetch_profiles(num_profiles=10000,dtype='dict')\n",
        "print(largest_blood_group(profiles,dtype='dict'))\n",
        "print(get_mean_current_location(profiles,dtype='dict'))    \n",
        "print(get_oldest_person_age(profiles,dtype='dict'))\n",
        "print(get_averge_age(profiles,dtype='dict'))\n"
      ],
      "execution_count": 21,
      "outputs": [
        {
          "output_type": "stream",
          "text": [
            "AB+\n",
            "(Decimal('0.4583500264'), Decimal('-0.5367035854'))\n",
            "42363\n",
            "21306.7393\n"
          ],
          "name": "stdout"
        }
      ]
    },
    {
      "cell_type": "code",
      "metadata": {
        "colab": {
          "base_uri": "https://localhost:8080/"
        },
        "id": "LZBolYSK0qR8",
        "outputId": "32746486-c396-4ce1-926c-5d7c6903f655"
      },
      "source": [
        "profiles = fetch_profiles(num_profiles=10000,dtype='namedtuple')\n",
        "print(largest_blood_group(profiles,dtype='namedtuple'))\n",
        "print(get_mean_current_location(profiles,dtype='namedtuple'))    \n",
        "print(get_oldest_person_age(profiles,dtype='namedtuple'))\n",
        "print(get_averge_age(profiles,dtype='namedtuple'))\n"
      ],
      "execution_count": 20,
      "outputs": [
        {
          "output_type": "stream",
          "text": [
            "AB+\n",
            "(Decimal('0.4583500264'), Decimal('-0.5367035854'))\n",
            "42363\n",
            "21306.7393\n"
          ],
          "name": "stdout"
        }
      ]
    },
    {
      "cell_type": "code",
      "metadata": {
        "id": "au-ixL7Y0ZT_"
      },
      "source": [
        "def prove_namedtuple_faster():\n",
        "    \"\"\" Function to prove that namedtuple executes faster than dictionary. \"\"\"\n",
        "\t\n",
        "    profiles = fetch_profiles(num_profiles=10000,dtype='dict')\n",
        "    s = perf_counter()\n",
        "    mcl = get_mean_current_location(profiles,dtype='dict') \n",
        "    e = perf_counter()\n",
        "    print('Time taken by dictionary',e-s)\n",
        "    profiles = fetch_profiles(num_profiles=10000,dtype='namedtuple')\n",
        "    s = perf_counter()\n",
        "    mcl = largest_blood_group(profiles,dtype='namedtuple')\n",
        "    e = perf_counter()\n",
        "    print('Time taken by namedtuple',e-s)"
      ],
      "execution_count": 18,
      "outputs": []
    },
    {
      "cell_type": "code",
      "metadata": {
        "colab": {
          "base_uri": "https://localhost:8080/"
        },
        "id": "J2UGQcEF1SiJ",
        "outputId": "cde6d51e-cefd-4014-d75d-952db85ec6db"
      },
      "source": [
        "prove_namedtuple_faster()"
      ],
      "execution_count": 19,
      "outputs": [
        {
          "output_type": "stream",
          "text": [
            "Time taken by dictionary 0.008026873000005708\n",
            "Time taken by namedtuple 0.005045117999998183\n"
          ],
          "name": "stdout"
        }
      ]
    }
  ]
}